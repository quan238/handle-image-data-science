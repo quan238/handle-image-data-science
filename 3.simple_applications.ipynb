{
 "cells": [
  {
   "cell_type": "markdown",
   "metadata": {},
   "source": [
    "## Copy an image"
   ]
  },
  {
   "cell_type": "code",
   "execution_count": 2,
   "metadata": {},
   "outputs": [
    {
     "data": {
      "text/plain": [
       "True"
      ]
     },
     "execution_count": 2,
     "metadata": {},
     "output_type": "execute_result"
    }
   ],
   "source": [
    "# copy image using list\n",
    "import cv2\n",
    "import numpy as np\n",
    "\n",
    "# read an image\n",
    "image = cv2.imread('apple.jpeg', 0)\n",
    "height, width = image.shape\n",
    "\n",
    "# create a 2D list\n",
    "copy_image = [[0]*width for _ in range(height)]\n",
    "\n",
    "# copy\n",
    "for i in range(height):\n",
    "    for j in range(width):\n",
    "        copy_image[i][j] = image[i][j]\n",
    "\n",
    "# save an image from a list\n",
    "cv2.imwrite('copy.jpg', np.array(copy_image))"
   ]
  }
 ],
 "metadata": {
  "kernelspec": {
   "display_name": "Python 3",
   "language": "python",
   "name": "python3"
  },
  "language_info": {
   "codemirror_mode": {
    "name": "ipython",
    "version": 3
   },
   "file_extension": ".py",
   "mimetype": "text/x-python",
   "name": "python",
   "nbconvert_exporter": "python",
   "pygments_lexer": "ipython3",
   "version": "3.12.0"
  }
 },
 "nbformat": 4,
 "nbformat_minor": 2
}
