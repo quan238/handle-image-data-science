{
 "cells": [
  {
   "cell_type": "markdown",
   "metadata": {},
   "source": [
    "## Copy an image"
   ]
  },
  {
   "cell_type": "code",
   "execution_count": 3,
   "metadata": {},
   "outputs": [
    {
     "data": {
      "text/plain": [
       "True"
      ]
     },
     "execution_count": 3,
     "metadata": {},
     "output_type": "execute_result"
    }
   ],
   "source": [
    "# copy image using list\n",
    "import cv2\n",
    "import numpy as np\n",
    "\n",
    "# read an image\n",
    "image = cv2.imread('apple.jpeg', 0)\n",
    "height, width = image.shape\n",
    "\n",
    "# create a 2D list\n",
    "copy_image = [[0]*width for _ in range(height)]\n",
    "\n",
    "# copy\n",
    "for i in range(height):\n",
    "    for j in range(width):\n",
    "        copy_image[i][j] = image[i][j]\n",
    "\n",
    "# save an image from a list\n",
    "cv2.imwrite('copy.jpg', np.array(copy_image))"
   ]
  },
  {
   "cell_type": "markdown",
   "metadata": {},
   "source": [
    "## Using Numpy"
   ]
  },
  {
   "cell_type": "code",
   "execution_count": 5,
   "metadata": {},
   "outputs": [
    {
     "data": {
      "text/plain": [
       "True"
      ]
     },
     "execution_count": 5,
     "metadata": {},
     "output_type": "execute_result"
    }
   ],
   "source": [
    "# copy image using array\n",
    "import cv2\n",
    "import numpy as np\n",
    "\n",
    "# read an image\n",
    "image = cv2.imread(\"apple.jpeg\", 0)\n",
    "height, width = image.shape\n",
    "\n",
    "# create a 2D array\n",
    "array_shape = (height, width)\n",
    "copy_image = np.zeros(array_shape)\n",
    "\n",
    "# copy\n",
    "for i in range(height):\n",
    "    for j in range(width):\n",
    "        copy_image[i][j] = image[i][j]\n",
    "\n",
    "# save an image from a list\n",
    "cv2.imwrite(\"copy.jpg\", np.array(copy_image))"
   ]
  },
  {
   "cell_type": "markdown",
   "metadata": {},
   "source": [
    "## For color images"
   ]
  },
  {
   "cell_type": "code",
   "execution_count": 6,
   "metadata": {},
   "outputs": [
    {
     "data": {
      "text/plain": [
       "True"
      ]
     },
     "execution_count": 6,
     "metadata": {},
     "output_type": "execute_result"
    }
   ],
   "source": [
    "# copy image using list\n",
    "import cv2\n",
    "import numpy as np\n",
    "\n",
    "# read an image\n",
    "image = cv2.imread(\"flowers.jpg\", 1)\n",
    "height, width, channel = image.shape\n",
    "\n",
    "# create a 2D array\n",
    "array_shape = (height, width, channel)\n",
    "copy_image = np.zeros(array_shape)\n",
    "\n",
    "# copy\n",
    "for i in range(height):\n",
    "    for j in range(width):\n",
    "        for c in range(channel):\n",
    "            copy_image[i][j] = image[i][j]\n",
    "\n",
    "# save an image from a list\n",
    "cv2.imwrite(\"copy.jpg\", np.array(copy_image))"
   ]
  },
  {
   "cell_type": "markdown",
   "metadata": {},
   "source": [
    "## Change Illuminations"
   ]
  },
  {
   "cell_type": "markdown",
   "metadata": {},
   "source": [
    "1. Increase brightness"
   ]
  },
  {
   "cell_type": "code",
   "execution_count": 7,
   "metadata": {},
   "outputs": [
    {
     "data": {
      "text/plain": [
       "True"
      ]
     },
     "execution_count": 7,
     "metadata": {},
     "output_type": "execute_result"
    }
   ],
   "source": [
    "# Copy and increase image brightness (1)\n",
    "\n",
    "import cv2\n",
    "import numpy as np\n",
    "\n",
    "# read an image\n",
    "image = cv2.imread(\"apple.jpeg\", 0)\n",
    "height, width = image.shape\n",
    "\n",
    "# create a 2D list\n",
    "copy_image = [[0] * width for _ in range(height)]\n",
    "\n",
    "# copy and increase image brightness\n",
    "value = 50\n",
    "for i in range(height):\n",
    "    for j in range(width):\n",
    "        copy_image[i][j] = min(255, image[i][j] + value)\n",
    "\n",
    "# save an image from a list\n",
    "cv2.imwrite(\"3.apple_increase_50.jpeg\", np.array(copy_image))"
   ]
  },
  {
   "cell_type": "markdown",
   "metadata": {},
   "source": [
    "2. Decrease brightness"
   ]
  },
  {
   "cell_type": "code",
   "execution_count": 9,
   "metadata": {},
   "outputs": [
    {
     "data": {
      "text/plain": [
       "True"
      ]
     },
     "execution_count": 9,
     "metadata": {},
     "output_type": "execute_result"
    }
   ],
   "source": [
    "# Copy and decrease image brightness (1)\n",
    "\n",
    "import cv2\n",
    "import numpy as np\n",
    "\n",
    "# read an image\n",
    "image = cv2.imread(\"apple.jpeg\", 0)\n",
    "height, width = image.shape\n",
    "\n",
    "# create a 2D list\n",
    "copy_image = [[0] * width for _ in range(height)]\n",
    "\n",
    "# copy and increase image brightness\n",
    "value = 50\n",
    "for i in range(height):\n",
    "    for j in range(width):\n",
    "        copy_image[i][j] = max(0, image[i][j] - value)\n",
    "\n",
    "# save an image from a list\n",
    "cv2.imwrite(\"3.apple_decrease_50.jpeg\", np.array(copy_image))"
   ]
  }
 ],
 "metadata": {
  "kernelspec": {
   "display_name": "Python 3",
   "language": "python",
   "name": "python3"
  },
  "language_info": {
   "codemirror_mode": {
    "name": "ipython",
    "version": 3
   },
   "file_extension": ".py",
   "mimetype": "text/x-python",
   "name": "python",
   "nbconvert_exporter": "python",
   "pygments_lexer": "ipython3",
   "version": "3.12.0"
  }
 },
 "nbformat": 4,
 "nbformat_minor": 2
}
