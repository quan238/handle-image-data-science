{
 "cells": [
  {
   "cell_type": "markdown",
   "metadata": {},
   "source": [
    "## create black and noises images"
   ]
  },
  {
   "cell_type": "code",
   "execution_count": 2,
   "metadata": {},
   "outputs": [
    {
     "data": {
      "text/plain": [
       "True"
      ]
     },
     "execution_count": 2,
     "metadata": {},
     "output_type": "execute_result"
    }
   ],
   "source": [
    "# create a black image\n",
    "import cv2\n",
    "import numpy as np\n",
    "\n",
    "height = 500\n",
    "width = 800\n",
    "image = [[0]*width for _ in range(height)]\n",
    "\n",
    "cv2.imwrite('2.black_image.jpg', np.array(image))"
   ]
  },
  {
   "cell_type": "code",
   "execution_count": 3,
   "metadata": {},
   "outputs": [
    {
     "data": {
      "text/plain": [
       "True"
      ]
     },
     "execution_count": 3,
     "metadata": {},
     "output_type": "execute_result"
    }
   ],
   "source": [
    "# create a noise image\n",
    "import cv2\n",
    "import numpy as np\n",
    "import random\n",
    "\n",
    "height = 800\n",
    "width = 500\n",
    "image = [[0] * width for _ in range(height)]\n",
    "\n",
    "# set noise to each pixel; a random integer in [0, 2550]\n",
    "for i in range(height):\n",
    "    for j in range(width):\n",
    "        image[i][j] = random.randint(0, 255)\n",
    "\n",
    "cv2.imwrite(\"2.noise_image.jpg\", np.array(image))"
   ]
  }
 ],
 "metadata": {
  "kernelspec": {
   "display_name": "Python 3",
   "language": "python",
   "name": "python3"
  },
  "language_info": {
   "codemirror_mode": {
    "name": "ipython",
    "version": 3
   },
   "file_extension": ".py",
   "mimetype": "text/x-python",
   "name": "python",
   "nbconvert_exporter": "python",
   "pygments_lexer": "ipython3",
   "version": "3.12.0"
  }
 },
 "nbformat": 4,
 "nbformat_minor": 2
}
